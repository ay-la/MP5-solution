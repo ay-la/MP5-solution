{
 "cells": [
  {
   "cell_type": "markdown",
   "metadata": {},
   "source": [
    "# MP5: Solution"
   ]
  },
  {
   "cell_type": "markdown",
   "metadata": {},
   "source": [
    "## Encoding"
   ]
  },
  {
   "cell_type": "code",
   "execution_count": 1,
   "metadata": {},
   "outputs": [],
   "source": [
    "import unicodedata\n",
    "\n",
    "\n",
    "def string_compare(s1: str, s2: str) -> bool:\n",
    "    \"\"\"Performs a very loose string comparison.\n",
    "    \n",
    "    This function performs a string comparison that is case-insensitive and\n",
    "    Unicode normalization-insensitive.\"\"\"\n",
    "    s1_for_comp = unicodedata.normalize(\"NFC\", s1.casefold())\n",
    "    s2_for_comp = unicodedata.normalize(\"NFC\", s2.casefold())\n",
    "    return s1_for_comp == s2_for_comp"
   ]
  },
  {
   "cell_type": "markdown",
   "metadata": {},
   "source": [
    "## Unit testing"
   ]
  },
  {
   "cell_type": "code",
   "execution_count": 2,
   "metadata": {},
   "outputs": [
    {
     "name": "stderr",
     "output_type": "stream",
     "text": [
      ".......\n",
      "----------------------------------------------------------------------\n",
      "Ran 7 tests in 0.010s\n",
      "\n",
      "OK\n"
     ]
    }
   ],
   "source": [
    "import unittest\n",
    "\n",
    "\n",
    "class StringCompareTest(unittest.TestCase):\n",
    "    \n",
    "    # English cases.\n",
    "    \n",
    "    def testEnglishIdentity(self):\n",
    "        self.assertTrue(string_compare(\"hot dog\", \"hot dog\"))\n",
    "    \n",
    "    def testEnglishCaseIdentity(self):\n",
    "        self.assertTrue(string_compare(\"Bibimbap\", \"bibimbap\"))\n",
    "        \n",
    "    def testEnglishNonIdentity(self):\n",
    "        self.assertFalse(string_compare(\"ssam\", \"kama\"))\n",
    "        \n",
    "    # Estonian cases.\n",
    "    \n",
    "    def testEstonianIdentity(self):\n",
    "       self.assertTrue(string_compare(\"kiluvõileib\", \"kiluvõileib\"))\n",
    "                         \n",
    "    def testEstonianUnicodeIdentity(self):\n",
    "        nfc = unicodedata.normalize(\"NFC\", \"kiluvõileib\")\n",
    "        nfd = unicodedata.normalize(\"NFD\", \"kiluvõileib\")\n",
    "        self.assertTrue(string_compare(nfc, nfd))\n",
    "                         \n",
    "    # Korean cases.\n",
    "                         \n",
    "    def testKoreanIdentity(self):\n",
    "        self.assertTrue(\"비빔밥\", \"비빔밥\")\n",
    "    \n",
    "    def testKoreanUnicodeIdentity(self):\n",
    "        nfc = unicodedata.normalize(\"NFC\", \"쌈\")\n",
    "        nfd = unicodedata.normalize(\"NFD\", \"쌈\")\n",
    "        self.assertTrue(string_compare(nfc, nfd))\n",
    "\n",
    "            \n",
    "# Now let's run the tests.           \n",
    "_ = unittest.main(argv=[\"\"], exit=False)"
   ]
  }
 ],
 "metadata": {
  "kernelspec": {
   "display_name": "Python 3",
   "language": "python",
   "name": "python3"
  },
  "language_info": {
   "codemirror_mode": {
    "name": "ipython",
    "version": 3
   },
   "file_extension": ".py",
   "mimetype": "text/x-python",
   "name": "python",
   "nbconvert_exporter": "python",
   "pygments_lexer": "ipython3",
   "version": "3.7.0"
  }
 },
 "nbformat": 4,
 "nbformat_minor": 2
}
